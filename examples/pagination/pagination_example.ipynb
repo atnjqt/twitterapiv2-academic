{
 "cells": [
  {
   "cell_type": "markdown",
   "metadata": {},
   "source": [
    "# Twitter APIv2 Search with Pagination 📄\n",
    "\n",
    "This notebook provides a quick example for querying TwitterAPIv2 for a keyword of interest **with a focus on getting historical results through implementing pagination.**\n",
    "\n",
    "> More info on Twitter Pagination docs [here](https://developer.twitter.com/en/docs/twitter-api/pagination)\n",
    "____________________________\n"
   ]
  },
  {
   "cell_type": "markdown",
   "metadata": {},
   "source": [
    "### 🌎 Load Modules"
   ]
  },
  {
   "cell_type": "code",
   "execution_count": 12,
   "metadata": {},
   "outputs": [],
   "source": [
    "import json\n",
    "import requests\n",
    "import os\n",
    "from time import sleep"
   ]
  },
  {
   "cell_type": "markdown",
   "metadata": {},
   "source": [
    "### 🔑 Set access tokens / Bearer Token\n",
    "\n",
    "> *Do not commit to github!*"
   ]
  },
  {
   "cell_type": "code",
   "execution_count": 13,
   "metadata": {},
   "outputs": [],
   "source": [
    "BEARER_TOKEN = 'AAAAAAAAAAAAAAAAAAAAANkNTwEAAAAA......KR7DbnKlt'"
   ]
  },
  {
   "cell_type": "markdown",
   "metadata": {},
   "source": [
    "### 👉 Set Query for Keyword, Geolocation, & Pagination!\n",
    "\n",
    "For your API call, you should:\n",
    "\n",
    "#### #️⃣ Prepare your Query with your parameters & terms of interest:\n",
    "\n",
    "Some query parameters you may consider for filtering on APIv2:\n",
    "\n",
    "- **Hashtags**\n",
    "- **Language**\n",
    "- **Geolocated**\n",
    "- **Historical**\n",
    "\n",
    "> *Note: in the below example, we look at the French #metoo movement, geolocated in Montreal, going back to year 2014\n",
    "\n",
    "#### #️⃣ Prepare your Tweet Expansions\n",
    "\n",
    "Set your desired expanded tweet fields, and add as parameters for your query!\n",
    "\n",
    "> You should add these once you are confident in your testing! I believe the expanded fields will count additionally against your API calls. More info on expansions here: https://developer.twitter.com/en/docs/twitter-api/expansions\n",
    "\n"
   ]
  },
  {
   "cell_type": "code",
   "execution_count": 14,
   "metadata": {},
   "outputs": [],
   "source": [
    "##########################################\n",
    "# Set your query parameters\n",
    "##########################################\n",
    "\n",
    "query = \"(#metoo OR #moiaussi OR #balancetonporc) lang:fr point_radius:[-73.6380306004768 45.505845653789784 25mi]\""
   ]
  },
  {
   "cell_type": "code",
   "execution_count": 15,
   "metadata": {},
   "outputs": [],
   "source": [
    "##########################################\n",
    "# Set your query date range (Standard APiv2 is max 1 week!)\n",
    "##########################################\n",
    "\n",
    "start_time = \"2014-01-01T00:00:00Z\"\n",
    "end_time = \"2021-10-10T00:00:00Z\""
   ]
  },
  {
   "cell_type": "code",
   "execution_count": 16,
   "metadata": {},
   "outputs": [],
   "source": [
    "##########################################\n",
    "# Set your expanded fields\n",
    "##########################################\n",
    "EXPANSIONS = \"author_id,referenced_tweets.id,referenced_tweets.id.author_id,in_reply_to_user_id,attachments.media_keys\"\n",
    "\n",
    "MEDIA_FIELDS = (\n",
    "    \"duration_ms,height,media_key,preview_image_url,type,url,width,public_metrics\"\n",
    ")\n",
    "\n",
    "TWEET_FIELDS = \"created_at,author_id,public_metrics,source\"\n",
    "\n",
    "USER_FIELDS = (\n",
    "    \"description,name,username,created_at,location,url,verified,public_metrics\"\n",
    ")"
   ]
  },
  {
   "cell_type": "markdown",
   "metadata": {},
   "source": [
    "### ⚙️ Setup APIv2 Endpoint\n",
    "\n",
    "- Please consider using endpoint `2/tweets/count/all` before searching on endpoint `2/tweets/search/all`...\n",
    "    - With the counts you get a better idea on how many Tweets we should expect for a given query..."
   ]
  },
  {
   "cell_type": "code",
   "execution_count": 17,
   "metadata": {},
   "outputs": [],
   "source": [
    "##########################################\n",
    "# Set your Twitter APIv2 endpoint URL\n",
    "# -----------------------------------\n",
    "# Optional params: start_time,end_time,since_id,until_id,next_token,granularity\n",
    "##########################################\n",
    "\n",
    "# FOR SEARCH API (uncomment these two lines):\n",
    "search_url = \"https://api.twitter.com/2/tweets/search/all\"\n",
    "query_params = {'query': {query},'start_time':start_time,'end_time':end_time}\n",
    "# WITH EXPANDED FIELDS\n",
    "query_params = {\"query\": {query},\n",
    "                \"start_time\":start_time,\n",
    "                \"end_time\":end_time,\n",
    "                \"expansions\": EXPANSIONS, # < -- Comment out if your expansions are empty...\n",
    "                \"media.fields\": MEDIA_FIELDS,\n",
    "                \"tweet.fields\": TWEET_FIELDS,\n",
    "                \"user.fields\": USER_FIELDS,       \n",
    "               }\n",
    "\n",
    "\n",
    "# FOR COUNTS API (uncomment these two lines):\n",
    "#search_url = \"https://api.twitter.com/2/tweets/counts/all\"\n",
    "#query_params = {'query': {query}, 'start_time':start_time,'end_time':end_time,'granularity':'day'}"
   ]
  },
  {
   "cell_type": "markdown",
   "metadata": {},
   "source": [
    "### 🚀 Run your APIv2 call with Pagination\n",
    "\n",
    "- In order to get all historical results, you must paginate using the `next_token` returned in the API call\n",
    "\n",
    "> *Note: here I implement a rudimentary rate limitting, which just pauses for at least one second (1.25 seconds), though the proper way would be to wait on a 429 rate limit response and wait only as long as is necessary...tbd*\n",
    "\n",
    "####  make sure you have an out directory to save results\n",
    "\n",
    "- should be `./data/`"
   ]
  },
  {
   "cell_type": "code",
   "execution_count": 18,
   "metadata": {},
   "outputs": [
    {
     "name": "stdout",
     "output_type": "stream",
     "text": [
      "mkdir: cannot create directory ‘./data’: File exists\n"
     ]
    }
   ],
   "source": [
    "mkdir ./data"
   ]
  },
  {
   "cell_type": "code",
   "execution_count": 19,
   "metadata": {},
   "outputs": [
    {
     "name": "stdout",
     "output_type": "stream",
     "text": [
      "401\n"
     ]
    },
    {
     "ename": "Exception",
     "evalue": "(401, '{\"title\":\"Unauthorized\",\"detail\":\"Unauthorized\",\"type\":\"about:blank\",\"status\":401}')",
     "output_type": "error",
     "traceback": [
      "\u001b[0;31m---------------------------------------------------------------------------\u001b[0m",
      "\u001b[0;31mException\u001b[0m                                 Traceback (most recent call last)",
      "\u001b[0;32m<ipython-input-19-0a8d437278f5>\u001b[0m in \u001b[0;36m<module>\u001b[0;34m\u001b[0m\n\u001b[1;32m     44\u001b[0m \u001b[0;34m\u001b[0m\u001b[0m\n\u001b[1;32m     45\u001b[0m \u001b[0;32mif\u001b[0m \u001b[0m__name__\u001b[0m \u001b[0;34m==\u001b[0m \u001b[0;34m\"__main__\"\u001b[0m\u001b[0;34m:\u001b[0m\u001b[0;34m\u001b[0m\u001b[0;34m\u001b[0m\u001b[0m\n\u001b[0;32m---> 46\u001b[0;31m     \u001b[0mmain\u001b[0m\u001b[0;34m(\u001b[0m\u001b[0;34m)\u001b[0m\u001b[0;34m\u001b[0m\u001b[0;34m\u001b[0m\u001b[0m\n\u001b[0m",
      "\u001b[0;32m<ipython-input-19-0a8d437278f5>\u001b[0m in \u001b[0;36mmain\u001b[0;34m()\u001b[0m\n\u001b[1;32m     18\u001b[0m \u001b[0;34m\u001b[0m\u001b[0m\n\u001b[1;32m     19\u001b[0m \u001b[0;32mdef\u001b[0m \u001b[0mmain\u001b[0m\u001b[0;34m(\u001b[0m\u001b[0;34m)\u001b[0m\u001b[0;34m:\u001b[0m\u001b[0;34m\u001b[0m\u001b[0;34m\u001b[0m\u001b[0m\n\u001b[0;32m---> 20\u001b[0;31m     \u001b[0mjson_response\u001b[0m \u001b[0;34m=\u001b[0m \u001b[0mconnect_to_endpoint\u001b[0m\u001b[0;34m(\u001b[0m\u001b[0msearch_url\u001b[0m\u001b[0;34m,\u001b[0m \u001b[0mquery_params\u001b[0m\u001b[0;34m)\u001b[0m\u001b[0;34m\u001b[0m\u001b[0;34m\u001b[0m\u001b[0m\n\u001b[0m\u001b[1;32m     21\u001b[0m     \u001b[0;31m# Create first outfile (pre-pagination)\u001b[0m\u001b[0;34m\u001b[0m\u001b[0;34m\u001b[0m\u001b[0;34m\u001b[0m\u001b[0m\n\u001b[1;32m     22\u001b[0m     \u001b[0;32mwith\u001b[0m \u001b[0mopen\u001b[0m\u001b[0;34m(\u001b[0m\u001b[0;34m'./data/result_.json'\u001b[0m\u001b[0;34m,\u001b[0m \u001b[0;34m'w'\u001b[0m\u001b[0;34m,\u001b[0m \u001b[0mencoding\u001b[0m\u001b[0;34m=\u001b[0m\u001b[0;34m'utf8'\u001b[0m\u001b[0;34m)\u001b[0m \u001b[0;32mas\u001b[0m \u001b[0mfile\u001b[0m\u001b[0;34m:\u001b[0m\u001b[0;34m\u001b[0m\u001b[0;34m\u001b[0m\u001b[0m\n",
      "\u001b[0;32m<ipython-input-19-0a8d437278f5>\u001b[0m in \u001b[0;36mconnect_to_endpoint\u001b[0;34m(url, params)\u001b[0m\n\u001b[1;32m     13\u001b[0m     \u001b[0mprint\u001b[0m\u001b[0;34m(\u001b[0m\u001b[0mresponse\u001b[0m\u001b[0;34m.\u001b[0m\u001b[0mstatus_code\u001b[0m\u001b[0;34m)\u001b[0m\u001b[0;34m\u001b[0m\u001b[0;34m\u001b[0m\u001b[0m\n\u001b[1;32m     14\u001b[0m     \u001b[0;32mif\u001b[0m \u001b[0mresponse\u001b[0m\u001b[0;34m.\u001b[0m\u001b[0mstatus_code\u001b[0m \u001b[0;34m!=\u001b[0m \u001b[0;36m200\u001b[0m\u001b[0;34m:\u001b[0m\u001b[0;34m\u001b[0m\u001b[0;34m\u001b[0m\u001b[0m\n\u001b[0;32m---> 15\u001b[0;31m         \u001b[0;32mraise\u001b[0m \u001b[0mException\u001b[0m\u001b[0;34m(\u001b[0m\u001b[0mresponse\u001b[0m\u001b[0;34m.\u001b[0m\u001b[0mstatus_code\u001b[0m\u001b[0;34m,\u001b[0m \u001b[0mresponse\u001b[0m\u001b[0;34m.\u001b[0m\u001b[0mtext\u001b[0m\u001b[0;34m)\u001b[0m\u001b[0;34m\u001b[0m\u001b[0;34m\u001b[0m\u001b[0m\n\u001b[0m\u001b[1;32m     16\u001b[0m     \u001b[0;32mreturn\u001b[0m \u001b[0mresponse\u001b[0m\u001b[0;34m.\u001b[0m\u001b[0mjson\u001b[0m\u001b[0;34m(\u001b[0m\u001b[0;34m)\u001b[0m\u001b[0;34m\u001b[0m\u001b[0;34m\u001b[0m\u001b[0m\n\u001b[1;32m     17\u001b[0m \u001b[0;34m\u001b[0m\u001b[0m\n",
      "\u001b[0;31mException\u001b[0m: (401, '{\"title\":\"Unauthorized\",\"detail\":\"Unauthorized\",\"type\":\"about:blank\",\"status\":401}')"
     ]
    }
   ],
   "source": [
    "def bearer_oauth(r):\n",
    "    \"\"\"\n",
    "    Method required by bearer token authentication.\n",
    "    \"\"\"\n",
    "\n",
    "    r.headers[\"Authorization\"] = f\"Bearer {BEARER_TOKEN}\"\n",
    "    r.headers[\"User-Agent\"] = \"v2FullArchiveSearchPython\"\n",
    "    return r\n",
    "\n",
    "\n",
    "def connect_to_endpoint(url, params):\n",
    "    response = requests.request(\"GET\", search_url, auth=bearer_oauth, params=params)\n",
    "    print(response.status_code)\n",
    "    if response.status_code != 200:\n",
    "        raise Exception(response.status_code, response.text)\n",
    "    return response.json()\n",
    "\n",
    "\n",
    "def main():\n",
    "    json_response = connect_to_endpoint(search_url, query_params)\n",
    "    # Create first outfile (pre-pagination)\n",
    "    with open('./data/result_.json', 'w', encoding='utf8') as file:\n",
    "            json.dump(json_response, file)\n",
    "    #print(json.dumps(json_response, indent=4, sort_keys=True))\n",
    "    \n",
    "    # FOR PAGINATION LOOP\n",
    "    sleep(1.25) # Sleep for at least one second to prevent 429 error on Rate Limiting\n",
    "    while 'next_token' in json_response['meta']:\n",
    "        next_token = json_response['meta']['next_token']\n",
    "        json_response = connect_to_endpoint(search_url, {\"query\": {query},\n",
    "                                                        \"start_time\":start_time,\n",
    "                                                        \"end_time\":end_time,\n",
    "                                                        \"expansions\": EXPANSIONS, # < -- Comment out if your expansions are empty...\n",
    "                                                        \"media.fields\": MEDIA_FIELDS,\n",
    "                                                        \"tweet.fields\": TWEET_FIELDS,\n",
    "                                                        \"user.fields\": USER_FIELDS, \n",
    "                                                        \"next_token\":next_token})\n",
    "                                                         #'granularity':'day' # <-- for counts (Comment out for search)\n",
    "        #print(json.dumps(json_response, indent=4, sort_keys=True))\n",
    "        # Create all next outfiles (post-pagination)\n",
    "        with open('./data/result_{}.json'.format(next_token), 'w', encoding='utf8') as file:\n",
    "            json.dump(json_response, file)\n",
    "        sleep(1.25)\n",
    "\n",
    "if __name__ == \"__main__\":\n",
    "    main()"
   ]
  },
  {
   "cell_type": "markdown",
   "metadata": {},
   "source": [
    "### Above returns Unauthorized, obviously because the bearer token is blank!"
   ]
  }
 ],
 "metadata": {
  "kernelspec": {
   "display_name": "Python 3",
   "language": "python",
   "name": "python3"
  },
  "language_info": {
   "codemirror_mode": {
    "name": "ipython",
    "version": 3
   },
   "file_extension": ".py",
   "mimetype": "text/x-python",
   "name": "python",
   "nbconvert_exporter": "python",
   "pygments_lexer": "ipython3",
   "version": "3.8.3"
  }
 },
 "nbformat": 4,
 "nbformat_minor": 4
}
